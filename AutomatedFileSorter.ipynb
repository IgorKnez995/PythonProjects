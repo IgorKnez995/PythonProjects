{
 "cells": [
  {
   "cell_type": "code",
   "execution_count": 31,
   "metadata": {},
   "outputs": [
    {
     "name": "stdout",
     "output_type": "stream",
     "text": [
      "C:/Users/Gentl/Documents/Python Documents/csv files\n"
     ]
    }
   ],
   "source": [
    "import os, shutil\n",
    "path= r\"C:/Users/Gentl/Documents/Python Documents/\"\n",
    "file_name= os.listdir(path)\n",
    "\n",
    "folder_names = ['csv files','text files','image files']\n",
    "\n",
    "for loop in (0,2):\n",
    "  if not os.path.exists(path + folder_names[loop]):\n",
    "    print(path + folder_names[loop])\n",
    "    os.makedirs(path + folder_names[loop])\n",
    "for file in file_name:\n",
    "  if \".csv\" in file and not os.path.exists(path + \"csv files/\"+file):\n",
    "    shutil.move(path + file,path + \"csv files/\"+file )\n",
    "  elif \".png\" in file and not os.path.exists(path + \"image files/\"+file):\n",
    "    shutil.move(path + file,path + \"image files/\"+file )\n",
    "  elif \".txt\" in file and not os.path.exists(path + \"text files/\"+file):\n",
    "    shutil.move(path + file,path + \"text files/\"+file )\n"
   ]
  },
  {
   "cell_type": "code",
   "execution_count": 29,
   "metadata": {},
   "outputs": [
    {
     "name": "stdout",
     "output_type": "stream",
     "text": [
      "There are files in this path that were not moved\n",
      "There are files in this path that were not moved\n",
      "There are files in this path that were not moved\n",
      "There are files in this path that were not moved\n",
      "There are files in this path that were not moved\n",
      "There are files in this path that were not moved\n",
      "There are files in this path that were not moved\n"
     ]
    }
   ],
   "source": [
    "\n",
    "  "
   ]
  },
  {
   "cell_type": "code",
   "execution_count": null,
   "metadata": {},
   "outputs": [],
   "source": []
  }
 ],
 "metadata": {
  "kernelspec": {
   "display_name": "Python 3",
   "language": "python",
   "name": "python3"
  },
  "language_info": {
   "codemirror_mode": {
    "name": "ipython",
    "version": 3
   },
   "file_extension": ".py",
   "mimetype": "text/x-python",
   "name": "python",
   "nbconvert_exporter": "python",
   "pygments_lexer": "ipython3",
   "version": "3.12.3"
  }
 },
 "nbformat": 4,
 "nbformat_minor": 2
}
