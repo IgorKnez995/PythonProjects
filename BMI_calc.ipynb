{
 "cells": [
  {
   "cell_type": "code",
   "execution_count": 14,
   "metadata": {},
   "outputs": [
    {
     "name": "stdout",
     "output_type": "stream",
     "text": [
      "26.7538644470868\n"
     ]
    }
   ],
   "source": [
    "\n",
    "name=input(\"Enter your name: \")\n",
    "\n",
    "weight= int(input(\"Enter your weight in kg: \"))\n",
    "\n",
    "height= float(input(\"Enter your height in meters: \"))\n",
    "\n",
    "BMI = (weight) / (height * height)\n",
    "\n",
    "print(BMI)\n",
    "\n",
    "if BMI > 0 :\n",
    "  if (BMI<18.5):\n",
    "    print(name + \", you are underweight\")\n",
    "  elif (BMI<=24.9):\n",
    "    print(name + \", you are normal weight\")\n",
    "  elif (BMI<29.9):\n",
    "    print(name + \", you are overweight increased\")\n",
    "  elif (BMI<34.9):\n",
    "    print(name + \", you are obese\")\n",
    "  elif (BMI<39.9):\n",
    "    print(name + \", you are severly obese\")\n",
    "  else:\n",
    "    print(name + \", you are morbidly obese\")        \n",
    "    \n",
    "else : \n",
    "  print(\"Enter valid input\")\n",
    "\n"
   ]
  },
  {
   "cell_type": "code",
   "execution_count": 8,
   "metadata": {},
   "outputs": [
    {
     "name": "stdout",
     "output_type": "stream",
     "text": [
      "65\n"
     ]
    }
   ],
   "source": [
    "#Under 18.5\tUnderweight\tMinimal\n",
    "# 18.5 - 24.9\tNormal Weight\tMinimal\n",
    "# 25 - 29.9\tOverweight\tIncreased\n",
    "# 30 - 34.9\tObese\tHigh\n",
    "# 35 - 39.9\tSeverely Obese\tVery High\n",
    "# 40 and over\tMorbidly Obese\tExtremely High"
   ]
  },
  {
   "cell_type": "code",
   "execution_count": null,
   "metadata": {},
   "outputs": [],
   "source": [
    "#BMI = (weight in pounds x 703) / (height in inches x height in inches)\n",
    "print(weight)"
   ]
  }
 ],
 "metadata": {
  "kernelspec": {
   "display_name": "Python 3",
   "language": "python",
   "name": "python3"
  },
  "language_info": {
   "codemirror_mode": {
    "name": "ipython",
    "version": 3
   },
   "file_extension": ".py",
   "mimetype": "text/x-python",
   "name": "python",
   "nbconvert_exporter": "python",
   "pygments_lexer": "ipython3",
   "version": "3.12.3"
  }
 },
 "nbformat": 4,
 "nbformat_minor": 2
}
